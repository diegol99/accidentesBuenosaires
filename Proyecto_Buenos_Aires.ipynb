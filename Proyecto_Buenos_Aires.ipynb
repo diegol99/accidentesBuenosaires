{
 "cells": [
  {
   "cell_type": "code",
   "execution_count": 1,
   "metadata": {},
   "outputs": [],
   "source": [
    "import unidecode\n",
    "import pandas as pd\n",
    "import numpy as np"
   ]
  },
  {
   "cell_type": "code",
   "execution_count": 127,
   "metadata": {},
   "outputs": [
    {
     "name": "stderr",
     "output_type": "stream",
     "text": [
      "C:\\Users\\Diego\\AppData\\Local\\Temp\\ipykernel_2916\\1760962409.py:4: DtypeWarning: Columns (4,6,7) have mixed types. Specify dtype option on import or set low_memory=False.\n",
      "  df2021 = pd.read_csv(r\"C:\\Diego\\Buenos aires\\flujo-vehicular-por-radares-2021.csv\")\n"
     ]
    }
   ],
   "source": [
    "##Leer bases de datos\n",
    "df2019 = pd.read_csv(r\"C:\\Diego\\Buenos aires\\flujo-vehicular-por-radares-2019.csv\")\n",
    "df2020 = pd.read_csv(r\"C:\\Diego\\Buenos aires\\flujo-vehicular-por-radares-2020.csv\")\n",
    "df2021 = pd.read_csv(r\"C:\\Diego\\Buenos aires\\flujo-vehicular-por-radares-2021.csv\")"
   ]
  },
  {
   "cell_type": "code",
   "execution_count": 128,
   "metadata": {},
   "outputs": [
    {
     "name": "stderr",
     "output_type": "stream",
     "text": [
      "c:\\Users\\Diego\\AppData\\Local\\Programs\\Python\\Python310\\lib\\site-packages\\pandas\\core\\tools\\datetimes.py:1047: UserWarning: Parsing '13/11/2021' in DD/MM/YYYY format. Provide format or specify infer_datetime_format=True for consistent parsing.\n",
      "  cache_array = _maybe_cache(arg, format, cache, convert_listlike)\n",
      "c:\\Users\\Diego\\AppData\\Local\\Programs\\Python\\Python310\\lib\\site-packages\\pandas\\core\\tools\\datetimes.py:1047: UserWarning: Parsing '14/11/2021' in DD/MM/YYYY format. Provide format or specify infer_datetime_format=True for consistent parsing.\n",
      "  cache_array = _maybe_cache(arg, format, cache, convert_listlike)\n",
      "c:\\Users\\Diego\\AppData\\Local\\Programs\\Python\\Python310\\lib\\site-packages\\pandas\\core\\tools\\datetimes.py:1047: UserWarning: Parsing '15/11/2021' in DD/MM/YYYY format. Provide format or specify infer_datetime_format=True for consistent parsing.\n",
      "  cache_array = _maybe_cache(arg, format, cache, convert_listlike)\n",
      "c:\\Users\\Diego\\AppData\\Local\\Programs\\Python\\Python310\\lib\\site-packages\\pandas\\core\\tools\\datetimes.py:1047: UserWarning: Parsing '16/11/2021' in DD/MM/YYYY format. Provide format or specify infer_datetime_format=True for consistent parsing.\n",
      "  cache_array = _maybe_cache(arg, format, cache, convert_listlike)\n",
      "c:\\Users\\Diego\\AppData\\Local\\Programs\\Python\\Python310\\lib\\site-packages\\pandas\\core\\tools\\datetimes.py:1047: UserWarning: Parsing '17/11/2021' in DD/MM/YYYY format. Provide format or specify infer_datetime_format=True for consistent parsing.\n",
      "  cache_array = _maybe_cache(arg, format, cache, convert_listlike)\n",
      "c:\\Users\\Diego\\AppData\\Local\\Programs\\Python\\Python310\\lib\\site-packages\\pandas\\core\\tools\\datetimes.py:1047: UserWarning: Parsing '18/11/2021' in DD/MM/YYYY format. Provide format or specify infer_datetime_format=True for consistent parsing.\n",
      "  cache_array = _maybe_cache(arg, format, cache, convert_listlike)\n",
      "c:\\Users\\Diego\\AppData\\Local\\Programs\\Python\\Python310\\lib\\site-packages\\pandas\\core\\tools\\datetimes.py:1047: UserWarning: Parsing '19/11/2021' in DD/MM/YYYY format. Provide format or specify infer_datetime_format=True for consistent parsing.\n",
      "  cache_array = _maybe_cache(arg, format, cache, convert_listlike)\n",
      "c:\\Users\\Diego\\AppData\\Local\\Programs\\Python\\Python310\\lib\\site-packages\\pandas\\core\\tools\\datetimes.py:1047: UserWarning: Parsing '20/11/2021' in DD/MM/YYYY format. Provide format or specify infer_datetime_format=True for consistent parsing.\n",
      "  cache_array = _maybe_cache(arg, format, cache, convert_listlike)\n",
      "c:\\Users\\Diego\\AppData\\Local\\Programs\\Python\\Python310\\lib\\site-packages\\pandas\\core\\tools\\datetimes.py:1047: UserWarning: Parsing '21/11/2021' in DD/MM/YYYY format. Provide format or specify infer_datetime_format=True for consistent parsing.\n",
      "  cache_array = _maybe_cache(arg, format, cache, convert_listlike)\n",
      "c:\\Users\\Diego\\AppData\\Local\\Programs\\Python\\Python310\\lib\\site-packages\\pandas\\core\\tools\\datetimes.py:1047: UserWarning: Parsing '22/11/2021' in DD/MM/YYYY format. Provide format or specify infer_datetime_format=True for consistent parsing.\n",
      "  cache_array = _maybe_cache(arg, format, cache, convert_listlike)\n",
      "c:\\Users\\Diego\\AppData\\Local\\Programs\\Python\\Python310\\lib\\site-packages\\pandas\\core\\tools\\datetimes.py:1047: UserWarning: Parsing '23/11/2021' in DD/MM/YYYY format. Provide format or specify infer_datetime_format=True for consistent parsing.\n",
      "  cache_array = _maybe_cache(arg, format, cache, convert_listlike)\n",
      "c:\\Users\\Diego\\AppData\\Local\\Programs\\Python\\Python310\\lib\\site-packages\\pandas\\core\\tools\\datetimes.py:1047: UserWarning: Parsing '24/11/2021' in DD/MM/YYYY format. Provide format or specify infer_datetime_format=True for consistent parsing.\n",
      "  cache_array = _maybe_cache(arg, format, cache, convert_listlike)\n",
      "c:\\Users\\Diego\\AppData\\Local\\Programs\\Python\\Python310\\lib\\site-packages\\pandas\\core\\tools\\datetimes.py:1047: UserWarning: Parsing '25/11/2021' in DD/MM/YYYY format. Provide format or specify infer_datetime_format=True for consistent parsing.\n",
      "  cache_array = _maybe_cache(arg, format, cache, convert_listlike)\n",
      "c:\\Users\\Diego\\AppData\\Local\\Programs\\Python\\Python310\\lib\\site-packages\\pandas\\core\\tools\\datetimes.py:1047: UserWarning: Parsing '26/11/2021' in DD/MM/YYYY format. Provide format or specify infer_datetime_format=True for consistent parsing.\n",
      "  cache_array = _maybe_cache(arg, format, cache, convert_listlike)\n",
      "c:\\Users\\Diego\\AppData\\Local\\Programs\\Python\\Python310\\lib\\site-packages\\pandas\\core\\tools\\datetimes.py:1047: UserWarning: Parsing '27/11/2021' in DD/MM/YYYY format. Provide format or specify infer_datetime_format=True for consistent parsing.\n",
      "  cache_array = _maybe_cache(arg, format, cache, convert_listlike)\n",
      "c:\\Users\\Diego\\AppData\\Local\\Programs\\Python\\Python310\\lib\\site-packages\\pandas\\core\\tools\\datetimes.py:1047: UserWarning: Parsing '28/11/2021' in DD/MM/YYYY format. Provide format or specify infer_datetime_format=True for consistent parsing.\n",
      "  cache_array = _maybe_cache(arg, format, cache, convert_listlike)\n",
      "c:\\Users\\Diego\\AppData\\Local\\Programs\\Python\\Python310\\lib\\site-packages\\pandas\\core\\tools\\datetimes.py:1047: UserWarning: Parsing '29/11/2021' in DD/MM/YYYY format. Provide format or specify infer_datetime_format=True for consistent parsing.\n",
      "  cache_array = _maybe_cache(arg, format, cache, convert_listlike)\n",
      "c:\\Users\\Diego\\AppData\\Local\\Programs\\Python\\Python310\\lib\\site-packages\\pandas\\core\\tools\\datetimes.py:1047: UserWarning: Parsing '30/11/2021' in DD/MM/YYYY format. Provide format or specify infer_datetime_format=True for consistent parsing.\n",
      "  cache_array = _maybe_cache(arg, format, cache, convert_listlike)\n",
      "c:\\Users\\Diego\\AppData\\Local\\Programs\\Python\\Python310\\lib\\site-packages\\pandas\\core\\tools\\datetimes.py:1047: UserWarning: Parsing '13/12/2021' in DD/MM/YYYY format. Provide format or specify infer_datetime_format=True for consistent parsing.\n",
      "  cache_array = _maybe_cache(arg, format, cache, convert_listlike)\n",
      "c:\\Users\\Diego\\AppData\\Local\\Programs\\Python\\Python310\\lib\\site-packages\\pandas\\core\\tools\\datetimes.py:1047: UserWarning: Parsing '14/12/2021' in DD/MM/YYYY format. Provide format or specify infer_datetime_format=True for consistent parsing.\n",
      "  cache_array = _maybe_cache(arg, format, cache, convert_listlike)\n",
      "c:\\Users\\Diego\\AppData\\Local\\Programs\\Python\\Python310\\lib\\site-packages\\pandas\\core\\tools\\datetimes.py:1047: UserWarning: Parsing '15/12/2021' in DD/MM/YYYY format. Provide format or specify infer_datetime_format=True for consistent parsing.\n",
      "  cache_array = _maybe_cache(arg, format, cache, convert_listlike)\n",
      "c:\\Users\\Diego\\AppData\\Local\\Programs\\Python\\Python310\\lib\\site-packages\\pandas\\core\\tools\\datetimes.py:1047: UserWarning: Parsing '16/12/2021' in DD/MM/YYYY format. Provide format or specify infer_datetime_format=True for consistent parsing.\n",
      "  cache_array = _maybe_cache(arg, format, cache, convert_listlike)\n",
      "c:\\Users\\Diego\\AppData\\Local\\Programs\\Python\\Python310\\lib\\site-packages\\pandas\\core\\tools\\datetimes.py:1047: UserWarning: Parsing '17/12/2021' in DD/MM/YYYY format. Provide format or specify infer_datetime_format=True for consistent parsing.\n",
      "  cache_array = _maybe_cache(arg, format, cache, convert_listlike)\n",
      "c:\\Users\\Diego\\AppData\\Local\\Programs\\Python\\Python310\\lib\\site-packages\\pandas\\core\\tools\\datetimes.py:1047: UserWarning: Parsing '18/12/2021' in DD/MM/YYYY format. Provide format or specify infer_datetime_format=True for consistent parsing.\n",
      "  cache_array = _maybe_cache(arg, format, cache, convert_listlike)\n",
      "c:\\Users\\Diego\\AppData\\Local\\Programs\\Python\\Python310\\lib\\site-packages\\pandas\\core\\tools\\datetimes.py:1047: UserWarning: Parsing '19/12/2021' in DD/MM/YYYY format. Provide format or specify infer_datetime_format=True for consistent parsing.\n",
      "  cache_array = _maybe_cache(arg, format, cache, convert_listlike)\n",
      "c:\\Users\\Diego\\AppData\\Local\\Programs\\Python\\Python310\\lib\\site-packages\\pandas\\core\\tools\\datetimes.py:1047: UserWarning: Parsing '20/12/2021' in DD/MM/YYYY format. Provide format or specify infer_datetime_format=True for consistent parsing.\n",
      "  cache_array = _maybe_cache(arg, format, cache, convert_listlike)\n",
      "c:\\Users\\Diego\\AppData\\Local\\Programs\\Python\\Python310\\lib\\site-packages\\pandas\\core\\tools\\datetimes.py:1047: UserWarning: Parsing '21/12/2021' in DD/MM/YYYY format. Provide format or specify infer_datetime_format=True for consistent parsing.\n",
      "  cache_array = _maybe_cache(arg, format, cache, convert_listlike)\n",
      "c:\\Users\\Diego\\AppData\\Local\\Programs\\Python\\Python310\\lib\\site-packages\\pandas\\core\\tools\\datetimes.py:1047: UserWarning: Parsing '22/12/2021' in DD/MM/YYYY format. Provide format or specify infer_datetime_format=True for consistent parsing.\n",
      "  cache_array = _maybe_cache(arg, format, cache, convert_listlike)\n",
      "c:\\Users\\Diego\\AppData\\Local\\Programs\\Python\\Python310\\lib\\site-packages\\pandas\\core\\tools\\datetimes.py:1047: UserWarning: Parsing '23/12/2021' in DD/MM/YYYY format. Provide format or specify infer_datetime_format=True for consistent parsing.\n",
      "  cache_array = _maybe_cache(arg, format, cache, convert_listlike)\n",
      "c:\\Users\\Diego\\AppData\\Local\\Programs\\Python\\Python310\\lib\\site-packages\\pandas\\core\\tools\\datetimes.py:1047: UserWarning: Parsing '24/12/2021' in DD/MM/YYYY format. Provide format or specify infer_datetime_format=True for consistent parsing.\n",
      "  cache_array = _maybe_cache(arg, format, cache, convert_listlike)\n",
      "c:\\Users\\Diego\\AppData\\Local\\Programs\\Python\\Python310\\lib\\site-packages\\pandas\\core\\tools\\datetimes.py:1047: UserWarning: Parsing '25/12/2021' in DD/MM/YYYY format. Provide format or specify infer_datetime_format=True for consistent parsing.\n",
      "  cache_array = _maybe_cache(arg, format, cache, convert_listlike)\n",
      "c:\\Users\\Diego\\AppData\\Local\\Programs\\Python\\Python310\\lib\\site-packages\\pandas\\core\\tools\\datetimes.py:1047: UserWarning: Parsing '26/12/2021' in DD/MM/YYYY format. Provide format or specify infer_datetime_format=True for consistent parsing.\n",
      "  cache_array = _maybe_cache(arg, format, cache, convert_listlike)\n",
      "c:\\Users\\Diego\\AppData\\Local\\Programs\\Python\\Python310\\lib\\site-packages\\pandas\\core\\tools\\datetimes.py:1047: UserWarning: Parsing '27/12/2021' in DD/MM/YYYY format. Provide format or specify infer_datetime_format=True for consistent parsing.\n",
      "  cache_array = _maybe_cache(arg, format, cache, convert_listlike)\n",
      "c:\\Users\\Diego\\AppData\\Local\\Programs\\Python\\Python310\\lib\\site-packages\\pandas\\core\\tools\\datetimes.py:1047: UserWarning: Parsing '28/12/2021' in DD/MM/YYYY format. Provide format or specify infer_datetime_format=True for consistent parsing.\n",
      "  cache_array = _maybe_cache(arg, format, cache, convert_listlike)\n",
      "c:\\Users\\Diego\\AppData\\Local\\Programs\\Python\\Python310\\lib\\site-packages\\pandas\\core\\tools\\datetimes.py:1047: UserWarning: Parsing '29/12/2021' in DD/MM/YYYY format. Provide format or specify infer_datetime_format=True for consistent parsing.\n",
      "  cache_array = _maybe_cache(arg, format, cache, convert_listlike)\n",
      "c:\\Users\\Diego\\AppData\\Local\\Programs\\Python\\Python310\\lib\\site-packages\\pandas\\core\\tools\\datetimes.py:1047: UserWarning: Parsing '30/12/2021' in DD/MM/YYYY format. Provide format or specify infer_datetime_format=True for consistent parsing.\n",
      "  cache_array = _maybe_cache(arg, format, cache, convert_listlike)\n",
      "c:\\Users\\Diego\\AppData\\Local\\Programs\\Python\\Python310\\lib\\site-packages\\pandas\\core\\tools\\datetimes.py:1047: UserWarning: Parsing '31/12/2021' in DD/MM/YYYY format. Provide format or specify infer_datetime_format=True for consistent parsing.\n",
      "  cache_array = _maybe_cache(arg, format, cache, convert_listlike)\n"
     ]
    }
   ],
   "source": [
    "##Dar formato a las fechas y poner los nombres en el dataset de 2021 como los del 2019 y 2020. \n",
    "df2019[\"fecha\"] = pd.to_datetime(df2019[\"fecha\"])\n",
    "df2020[\"fecha\"] = pd.to_datetime(df2020[\"fecha\"])\n",
    "df2021[\"Mes, Día, Año de H_Fecha\"] = pd.to_datetime(df2021[\"Mes, Día, Año de H_Fecha\"])\n",
    "df2021= df2021.rename(columns={\"Mes, Día, Año de H_Fecha\":\"Fecha\",\"Aut Nombre\":\"autopista_nombre\",\"Disp Nombre\":\"disp_nombre\",\n",
    "\"Disp Ubicacion\":\"disp_ubicacion\",\"Seccion Sentido\":\"seccion_sentido\",\"Disp Lat\":\"lat\",\"Disp Lng\":\"long\",\"H_Cant_Veh\":\"cantidad\"})"
   ]
  },
  {
   "cell_type": "code",
   "execution_count": 129,
   "metadata": {},
   "outputs": [],
   "source": [
    "##Quitar posible acento en el df y convertir todo en minuscula\n",
    "def quitar_acento(string):\n",
    "    return unidecode.unidecode(string)\n",
    "df2019.columns = map(quitar_acento,df2019.columns.str.lower())\n",
    "df2020.columns = map(quitar_acento,df2020.columns.str.lower())\n",
    "df2021.columns = map(quitar_acento,df2021.columns.str.lower())"
   ]
  },
  {
   "cell_type": "code",
   "execution_count": 130,
   "metadata": {},
   "outputs": [],
   "source": [
    "##Rellenar los datos nulos con la lat y long del lugar\n",
    "df2019.loc[df2019[\"disp_nombre\"]==\"RD101 de la Torre\",\"lat\"] = df2019.loc[df2019[\"disp_nombre\"]==\"RD101 de la Torre\",\"lat\"].fillna(-34.67917)\n",
    "df2019.loc[df2019[\"disp_nombre\"]==\"RD101 de la Torre\",\"long\"] = df2019.loc[df2019[\"disp_nombre\"]==\"RD101 de la Torre\",\"long\"].fillna(-58.47959)"
   ]
  },
  {
   "cell_type": "code",
   "execution_count": 131,
   "metadata": {},
   "outputs": [],
   "source": [
    "##Rellenar los datos nulos con la lat y long del lugar 2020\n",
    "df2020.loc[df2020[\"disp_nombre\"]==\"RD101 de la Torre\",\"lat\"] = df2020.loc[df2020[\"disp_nombre\"]==\"RD101 de la Torre\",\"lat\"].fillna(-34.67917)\n",
    "df2020.loc[df2020[\"disp_nombre\"]==\"RD101 de la Torre\",\"long\"] = df2020.loc[df2020[\"disp_nombre\"]==\"RD101 de la Torre\",\"long\"].fillna(-58.47959)\n",
    "df2020.loc[df2020[\"disp_nombre\"]==\"RD136 Yrigoyen\",\"lat\"] = df2020.loc[df2020[\"disp_nombre\"]==\"RD136 Yrigoyen\",\"lat\"].fillna(-34.62277)\n",
    "df2020.loc[df2020[\"disp_nombre\"]==\"RD136 Yrigoyen\",\"long\"] = df2020.loc[df2020[\"disp_nombre\"]==\"RD136 Yrigoyen\",\"long\"].fillna(-58.37825)"
   ]
  },
  {
   "cell_type": "code",
   "execution_count": 132,
   "metadata": {},
   "outputs": [],
   "source": [
    "##Eliminar columna de nulos\n",
    "df2020= df2020.dropna(subset=['seccion_sentido'])"
   ]
  },
  {
   "cell_type": "code",
   "execution_count": 133,
   "metadata": {},
   "outputs": [
    {
     "data": {
      "text/plain": [
       "fecha               0\n",
       "hora                0\n",
       "autopista_nombre    0\n",
       "disp_nombre         0\n",
       "disp_ubicacion      0\n",
       "seccion_sentido     0\n",
       "lat                 0\n",
       "long                0\n",
       "cantidad            0\n",
       "dtype: int64"
      ]
     },
     "execution_count": 133,
     "metadata": {},
     "output_type": "execute_result"
    }
   ],
   "source": [
    "df2020.isnull().sum()"
   ]
  },
  {
   "cell_type": "code",
   "execution_count": 134,
   "metadata": {},
   "outputs": [],
   "source": [
    "##Organizar fechas diferentes a 2020\n",
    "xy = pd.DataFrame(df2020[\"fecha\"].dt.year)\n",
    "xx= pd.DataFrame(df2020[\"fecha\"].dt.day)\n",
    "xz = pd.DataFrame(df2020[\"fecha\"].dt.month)\n",
    "xy[\"fecha\"] = 2020\n",
    "df2020[\"fecha\"]= xy[\"fecha\"].map(str)+ \"/\" + xz[\"fecha\"].map(str) + \"/\" +xx[\"fecha\"].map(str)\n",
    "df2020[\"fecha\"] = pd.to_datetime(df2020[\"fecha\"], errors = 'coerce', format = '%Y/%m/%d')"
   ]
  },
  {
   "cell_type": "code",
   "execution_count": 135,
   "metadata": {},
   "outputs": [
    {
     "data": {
      "text/plain": [
       "fecha                    0\n",
       "h_hora               22017\n",
       "autopista_nombre         0\n",
       "disp_nombre              0\n",
       "disp_ubicacion           0\n",
       "seccion_sentido        704\n",
       "lat                  22663\n",
       "long                 22663\n",
       "cantidad                 0\n",
       "hora de h_fecha     239228\n",
       "dtype: int64"
      ]
     },
     "execution_count": 135,
     "metadata": {},
     "output_type": "execute_result"
    }
   ],
   "source": [
    "df2021.isnull().sum()"
   ]
  },
  {
   "cell_type": "code",
   "execution_count": 136,
   "metadata": {},
   "outputs": [],
   "source": [
    "##Rellenar nulos de latitud con su respectivo valor\n",
    "df2021.loc[df2021[\"disp_nombre\"]==\"RD171 Esma\",\"lat\"] = df2021.loc[df2021[\"disp_nombre\"]==\"RD171 Esma\",\"lat\"].fillna(-34.56336)\n",
    "df2021.loc[df2021[\"disp_nombre\"]==\"RD170 Udaondo\",\"lat\"] = df2021.loc[df2021[\"disp_nombre\"]==\"RD170 Udaondo\",\"lat\"].fillna(-34.54293)\n",
    "df2021.loc[df2021[\"disp_nombre\"]==\"RD169 Monroe\",\"lat\"] = df2021.loc[df2021[\"disp_nombre\"]==\"RD169 Monroe\",\"lat\"].fillna(-34.54629)\n",
    "df2021.loc[df2021[\"disp_nombre\"]==\"RD168 Juramento\",\"lat\"] = df2021.loc[df2021[\"disp_nombre\"]==\"RD168 Juramento\",\"lat\"].fillna(-34.54977)\n",
    "df2021.loc[df2021[\"disp_nombre\"]==\"RD111 Ramal 9\",\"lat\"] = df2021.loc[df2021[\"disp_nombre\"]==\"RD111 Ramal 9\",\"lat\"].fillna(-34.65061)\n",
    "df2021.loc[df2021[\"disp_nombre\"]==\"RD166 Ombues\",\"lat\"] = df2021.loc[df2021[\"disp_nombre\"]==\"RD166 Ombues\",\"lat\"].fillna(-34.56044)\n",
    "df2021.loc[df2021[\"disp_nombre\"]==\"RD108 Ramal a 27f.\",\"lat\"] = df2021.loc[df2021[\"disp_nombre\"]==\"RD108 Ramal a 27f.\",\"lat\"].fillna(-34.65369)\n",
    "df2021.loc[df2021[\"disp_nombre\"]==\"RD165 Dorrego\",\"lat\"] = df2021.loc[df2021[\"disp_nombre\"]==\"RD165 Dorrego\",\"lat\"].fillna(-34.56336)\n",
    "df2021.loc[df2021[\"disp_nombre\"]==\"RD110 Fernandez\",\"lat\"] = df2021.loc[df2021[\"disp_nombre\"]==\"RD110 Fernandez\",\"lat\"].fillna(-34.65288)\n",
    "df2021.loc[df2021[\"disp_nombre\"]==\"RD183 Centro Naval\",\"lat\"] = df2021.loc[df2021[\"disp_nombre\"]==\"RD183 Centro Naval\",\"lat\"].fillna(-34.53709)\n",
    "df2021.loc[df2021[\"disp_nombre\"]==\"RD106 Zinny\",\"lat\"] = df2021.loc[df2021[\"disp_nombre\"]==\"RD106 Zinny\",\"lat\"].fillna(-34.65465)\n",
    "df2021.loc[df2021[\"disp_nombre\"]==\"RD182 Labruna\",\"lat\"] = df2021.loc[df2021[\"disp_nombre\"]==\"RD182 Labruna\",\"lat\"].fillna(-34.5423)\n",
    "df2021.loc[df2021[\"disp_nombre\"]==\"RD103 Miralla\",\"lat\"] = df2021.loc[df2021[\"disp_nombre\"]==\"RD103 Miralla\",\"lat\"].fillna(-34.6699)\n",
    "df2021.loc[df2021[\"disp_nombre\"]==\"RD181 Ciudad Univer.\",\"lat\"] = df2021.loc[df2021[\"disp_nombre\"]==\"RD181 Ciudad Univer.\",\"lat\"].fillna(34.54362)\n",
    "df2021.loc[df2021[\"disp_nombre\"]==\"RD180 Encalada\",\"lat\"] = df2021.loc[df2021[\"disp_nombre\"]==\"RD180 Encalada\",\"lat\"].fillna(-34.54778)\n",
    "df2021.loc[df2021[\"disp_nombre\"]==\"RD101 de la Torre\",\"lat\"] = df2021.loc[df2021[\"disp_nombre\"]==\"RD101 de la Torre\",\"lat\"].fillna(-34.67917)\n",
    "df2021.loc[df2021[\"disp_nombre\"]==\"RD134 Ituzaingo\",\"lat\"] = df2021.loc[df2021[\"disp_nombre\"]==\"RD134 Ituzaingo\",\"lat\"].fillna(-34.6326)\n",
    "df2021.loc[df2021[\"disp_nombre\"]==\"RD100 Montiel\",\"lat\"] = df2021.loc[df2021[\"disp_nombre\"]==\"RD100 Montiel\",\"lat\"].fillna(-34.68411)\n",
    "df2021.loc[df2021[\"disp_nombre\"]==\"RD136 Yrigoyen\",\"lat\"] = df2021.loc[df2021[\"disp_nombre\"]==\"RD136 Yrigoyen\",\"lat\"].fillna(-34.60846)\n",
    "df2021.loc[df2021[\"disp_nombre\"]==\"RD125 Osv.Cruz A\",\"lat\"] = df2021.loc[df2021[\"disp_nombre\"]==\"RD125 Osv.Cruz A\",\"lat\"].fillna(-34.65134)\n",
    "df2021.loc[df2021[\"disp_nombre\"]==\"RD131 Brandsen B\",\"lat\"] = df2021.loc[df2021[\"disp_nombre\"]==\"RD131 Brandsen B\",\"lat\"].fillna(-34.63898)\n",
    "df2021.loc[df2021[\"disp_nombre\"]==\"RD126 Osv.Cruz B\",\"lat\"] = df2021.loc[df2021[\"disp_nombre\"]==\"RD126 Osv.Cruz B\",\"lat\"].fillna(-34.65136)\n",
    "df2021.loc[df2021[\"disp_nombre\"]==\"RD129 Olavarria\",\"lat\"] = df2021.loc[df2021[\"disp_nombre\"]==\"RD129 Olavarria\",\"lat\"].fillna(-34.64076)\n",
    "df2021.loc[df2021[\"disp_nombre\"]==\"RD127 Ben.Q.Martín A\",\"lat\"] = df2021.loc[df2021[\"disp_nombre\"]==\"RD127 Ben.Q.Martín A\",\"lat\"].fillna(-34.64357)\n",
    "df2021.loc[df2021[\"disp_nombre\"]==\"RD130 Suarez\",\"lat\"] = df2021.loc[df2021[\"disp_nombre\"]==\"RD130 Suarez\",\"lat\"].fillna(-34.6394)\n",
    "df2021.loc[df2021[\"disp_nombre\"]==\"RD128 Ben.Q.Martín B\",\"lat\"] = df2021.loc[df2021[\"disp_nombre\"]==\"RD128 Ben.Q.Martín B\",\"lat\"].fillna(-34.64358)"
   ]
  },
  {
   "cell_type": "code",
   "execution_count": 137,
   "metadata": {},
   "outputs": [],
   "source": [
    "####Rellenar nulos de longitud con su respectivo valor\n",
    "df2021.loc[df2021[\"disp_nombre\"]==\"RD165 Dorrego\",\"long\"] = df2021.loc[df2021[\"disp_nombre\"]==\"RD165 Dorrego\",\"long\"].fillna(-58.41529)\n",
    "df2021.loc[df2021[\"disp_nombre\"]==\"RD166 Ombues\",\"long\"] = df2021.loc[df2021[\"disp_nombre\"]==\"RD166 Ombues\",\"long\"].fillna(-58.41908)\n",
    "df2021.loc[df2021[\"disp_nombre\"]==\"RD168 Juramento\",\"long\"] = df2021.loc[df2021[\"disp_nombre\"]==\"RD168 Juramento\",\"long\"].fillna(-58.43602)\n",
    "df2021.loc[df2021[\"disp_nombre\"]==\"RD169 Monroe\",\"long\"] = df2021.loc[df2021[\"disp_nombre\"]==\"RD169 Monroe\",\"long\"].fillna(-58.44224)\n",
    "df2021.loc[df2021[\"disp_nombre\"]==\"RD170 Udaondo\",\"long\"] = df2021.loc[df2021[\"disp_nombre\"]==\"RD170 Udaondo\",\"long\"].fillna(-58.44901)\n",
    "df2021.loc[df2021[\"disp_nombre\"]==\"RD171 Esma\",\"long\"] = df2021.loc[df2021[\"disp_nombre\"]==\"RD171 Esma\",\"long\"].fillna(-58.45967)\n",
    "df2021.loc[df2021[\"disp_nombre\"]==\"RD180 Encalada\",\"long\"] = df2021.loc[df2021[\"disp_nombre\"]==\"RD180 Encalada\",\"long\"].fillna(-58.45967)\n",
    "df2021.loc[df2021[\"disp_nombre\"]==\"RD181 Ciudad Univer.\",\"long\"] = df2021.loc[df2021[\"disp_nombre\"]==\"RD181 Ciudad Univer.\",\"long\"].fillna(-58.4464)\n",
    "df2021.loc[df2021[\"disp_nombre\"]==\"RD182 Labruna\",\"long\"] = df2021.loc[df2021[\"disp_nombre\"]==\"RD182 Labruna\",\"long\"].fillna(-58.44869)\n",
    "df2021.loc[df2021[\"disp_nombre\"]==\"RD183 Centro Naval\",\"long\"] = df2021.loc[df2021[\"disp_nombre\"]==\"RD183 Centro Naval\",\"long\"].fillna(-58.44869)\n",
    "df2021.loc[df2021[\"disp_nombre\"]==\"RD111 Ramal 9\",\"long\"] = df2021.loc[df2021[\"disp_nombre\"]==\"RD111 Ramal 9\",\"long\"].fillna(-58.45916)\n",
    "df2021.loc[df2021[\"disp_nombre\"]==\"RD126 Osv.Cruz B\",\"long\"] = df2021.loc[df2021[\"disp_nombre\"]==\"RD126 Osv.Cruz B\",\"long\"].fillna(-58.37266)\n",
    "df2021.loc[df2021[\"disp_nombre\"]==\"RD110 Fernandez\",\"long\"] = df2021.loc[df2021[\"disp_nombre\"]==\"RD110 Fernandez\",\"long\"].fillna(-58.46818)\n",
    "df2021.loc[df2021[\"disp_nombre\"]==\"RD125 Osv.Cruz A\",\"long\"] = df2021.loc[df2021[\"disp_nombre\"]==\"RD125 Osv.Cruz A\",\"long\"].fillna(-58.37255)\n",
    "df2021.loc[df2021[\"disp_nombre\"]==\"RD108 Ramal a 27f.\",\"long\"] = df2021.loc[df2021[\"disp_nombre\"]==\"RD108 Ramal a 27f.\",\"long\"].fillna(-58.46812)\n",
    "df2021.loc[df2021[\"disp_nombre\"]==\"RD128 Ben.Q.Martín B\",\"long\"] = df2021.loc[df2021[\"disp_nombre\"]==\"RD128 Ben.Q.Martín B\",\"long\"].fillna(-58.37592)\n",
    "df2021.loc[df2021[\"disp_nombre\"]==\"RD106 Zinny\",\"long\"] = df2021.loc[df2021[\"disp_nombre\"]==\"RD106 Zinny\",\"long\"].fillna(-58.46901)\n",
    "df2021.loc[df2021[\"disp_nombre\"]==\"RD127 Ben.Q.Martín A\",\"long\"] = df2021.loc[df2021[\"disp_nombre\"]==\"RD127 Ben.Q.Martín A\",\"long\"].fillna(-58.37568)\n",
    "df2021.loc[df2021[\"disp_nombre\"]==\"RD103 Miralla\",\"long\"] = df2021.loc[df2021[\"disp_nombre\"]==\"RD103 Miralla\",\"long\"].fillna(-58.47536)\n",
    "df2021.loc[df2021[\"disp_nombre\"]==\"RD129 Olavarria\",\"long\"] = df2021.loc[df2021[\"disp_nombre\"]==\"RD129 Olavarria\",\"long\"].fillna(-58.37651\t)\n",
    "df2021.loc[df2021[\"disp_nombre\"]==\"RD101 de la Torre\",\"long\"] = df2021.loc[df2021[\"disp_nombre\"]==\"RD101 de la Torre\",\"long\"].fillna(-58.47959)\n",
    "df2021.loc[df2021[\"disp_nombre\"]==\"RD130 Suarez\",\"long\"] = df2021.loc[df2021[\"disp_nombre\"]==\"RD130 Suarez\",\"long\"].fillna(-58.37635)\n",
    "df2021.loc[df2021[\"disp_nombre\"]==\"RD100 Montiel\",\"long\"] = df2021.loc[df2021[\"disp_nombre\"]==\"RD100 Montiel\",\"long\"].fillna(-58.48264)\n",
    "df2021.loc[df2021[\"disp_nombre\"]==\"RD131 Brandsen B\",\"long\"] = df2021.loc[df2021[\"disp_nombre\"]==\"RD131 Brandsen B\",\"long\"].fillna(-58.37695)\n",
    "df2021.loc[df2021[\"disp_nombre\"]==\"RD136 Yrigoyen\",\"long\"] = df2021.loc[df2021[\"disp_nombre\"]==\"RD136 Yrigoyen\",\"long\"].fillna(-58.37825)\n",
    "df2021.loc[df2021[\"disp_nombre\"]==\"RD134 Ituzaingo\",\"long\"] = df2021.loc[df2021[\"disp_nombre\"]==\"RD134 Ituzaingo\",\"long\"].fillna(-58.37861)"
   ]
  },
  {
   "cell_type": "code",
   "execution_count": 138,
   "metadata": {},
   "outputs": [],
   "source": [
    "##Eliminar columns con nulos. En esta se elimnan  en su totalidad debido a que todos los valores son nulos. \n",
    "##Esta servirá para hacer una comparación sin las columns eliminadas\n",
    "df2021= df2021.drop(columns=['h_hora','seccion_sentido','hora de h_fecha'],axis=1)"
   ]
  },
  {
   "cell_type": "code",
   "execution_count": 139,
   "metadata": {},
   "outputs": [
    {
     "data": {
      "text/html": [
       "<div>\n",
       "<style scoped>\n",
       "    .dataframe tbody tr th:only-of-type {\n",
       "        vertical-align: middle;\n",
       "    }\n",
       "\n",
       "    .dataframe tbody tr th {\n",
       "        vertical-align: top;\n",
       "    }\n",
       "\n",
       "    .dataframe thead th {\n",
       "        text-align: right;\n",
       "    }\n",
       "</style>\n",
       "<table border=\"1\" class=\"dataframe\">\n",
       "  <thead>\n",
       "    <tr style=\"text-align: right;\">\n",
       "      <th></th>\n",
       "      <th>fecha</th>\n",
       "      <th>autopista_nombre</th>\n",
       "      <th>disp_nombre</th>\n",
       "      <th>disp_ubicacion</th>\n",
       "      <th>lat</th>\n",
       "      <th>long</th>\n",
       "      <th>cantidad</th>\n",
       "    </tr>\n",
       "  </thead>\n",
       "  <tbody>\n",
       "    <tr>\n",
       "      <th>0</th>\n",
       "      <td>2021-01-01</td>\n",
       "      <td>AU 4  Lugones</td>\n",
       "      <td>RD171 Esma</td>\n",
       "      <td>9.9</td>\n",
       "      <td>-34.56336</td>\n",
       "      <td>-58.45967</td>\n",
       "      <td>943</td>\n",
       "    </tr>\n",
       "    <tr>\n",
       "      <th>1</th>\n",
       "      <td>2021-01-01</td>\n",
       "      <td>AU 4  Lugones</td>\n",
       "      <td>RD171 Esma</td>\n",
       "      <td>9.9</td>\n",
       "      <td>-34.56336</td>\n",
       "      <td>-58.45967</td>\n",
       "      <td>3946</td>\n",
       "    </tr>\n",
       "    <tr>\n",
       "      <th>2</th>\n",
       "      <td>2021-01-01</td>\n",
       "      <td>AU 4  Lugones</td>\n",
       "      <td>RD171 Esma</td>\n",
       "      <td>9.9</td>\n",
       "      <td>-34.56336</td>\n",
       "      <td>-58.45967</td>\n",
       "      <td>4662</td>\n",
       "    </tr>\n",
       "    <tr>\n",
       "      <th>3</th>\n",
       "      <td>2021-01-01</td>\n",
       "      <td>AU 4  Lugones</td>\n",
       "      <td>RD171 Esma</td>\n",
       "      <td>9.9</td>\n",
       "      <td>-34.56336</td>\n",
       "      <td>-58.45967</td>\n",
       "      <td>2486</td>\n",
       "    </tr>\n",
       "    <tr>\n",
       "      <th>4</th>\n",
       "      <td>2021-01-01</td>\n",
       "      <td>AU 4  Lugones</td>\n",
       "      <td>RD171 Esma</td>\n",
       "      <td>9.9</td>\n",
       "      <td>-34.56336</td>\n",
       "      <td>-58.45967</td>\n",
       "      <td>1268</td>\n",
       "    </tr>\n",
       "    <tr>\n",
       "      <th>...</th>\n",
       "      <td>...</td>\n",
       "      <td>...</td>\n",
       "      <td>...</td>\n",
       "      <td>...</td>\n",
       "      <td>...</td>\n",
       "      <td>...</td>\n",
       "      <td>...</td>\n",
       "    </tr>\n",
       "    <tr>\n",
       "      <th>261240</th>\n",
       "      <td>2021-12-31</td>\n",
       "      <td>AU Dellepiane</td>\n",
       "      <td>RD111 Ramal 9</td>\n",
       "      <td>0.18</td>\n",
       "      <td>-34.65061</td>\n",
       "      <td>-58.46677</td>\n",
       "      <td>518</td>\n",
       "    </tr>\n",
       "    <tr>\n",
       "      <th>261241</th>\n",
       "      <td>2021-12-31</td>\n",
       "      <td>AU Dellepiane</td>\n",
       "      <td>RD111 Ramal 9</td>\n",
       "      <td>0.18</td>\n",
       "      <td>-34.65061</td>\n",
       "      <td>-58.46677</td>\n",
       "      <td>440</td>\n",
       "    </tr>\n",
       "    <tr>\n",
       "      <th>261242</th>\n",
       "      <td>2021-12-31</td>\n",
       "      <td>AU Dellepiane</td>\n",
       "      <td>RD111 Ramal 9</td>\n",
       "      <td>0.18</td>\n",
       "      <td>-34.65061</td>\n",
       "      <td>-58.46677</td>\n",
       "      <td>360</td>\n",
       "    </tr>\n",
       "    <tr>\n",
       "      <th>261243</th>\n",
       "      <td>2021-12-31</td>\n",
       "      <td>AU Dellepiane</td>\n",
       "      <td>RD111 Ramal 9</td>\n",
       "      <td>0.18</td>\n",
       "      <td>-34.65061</td>\n",
       "      <td>-58.46677</td>\n",
       "      <td>176</td>\n",
       "    </tr>\n",
       "    <tr>\n",
       "      <th>261244</th>\n",
       "      <td>2021-12-31</td>\n",
       "      <td>AU Dellepiane</td>\n",
       "      <td>RD111 Ramal 9</td>\n",
       "      <td>0.18</td>\n",
       "      <td>-34.65061</td>\n",
       "      <td>-58.46677</td>\n",
       "      <td>62</td>\n",
       "    </tr>\n",
       "  </tbody>\n",
       "</table>\n",
       "<p>261245 rows × 7 columns</p>\n",
       "</div>"
      ],
      "text/plain": [
       "            fecha autopista_nombre    disp_nombre disp_ubicacion       lat  \\\n",
       "0      2021-01-01    AU 4  Lugones     RD171 Esma            9.9 -34.56336   \n",
       "1      2021-01-01    AU 4  Lugones     RD171 Esma            9.9 -34.56336   \n",
       "2      2021-01-01    AU 4  Lugones     RD171 Esma            9.9 -34.56336   \n",
       "3      2021-01-01    AU 4  Lugones     RD171 Esma            9.9 -34.56336   \n",
       "4      2021-01-01    AU 4  Lugones     RD171 Esma            9.9 -34.56336   \n",
       "...           ...              ...            ...            ...       ...   \n",
       "261240 2021-12-31    AU Dellepiane  RD111 Ramal 9           0.18 -34.65061   \n",
       "261241 2021-12-31    AU Dellepiane  RD111 Ramal 9           0.18 -34.65061   \n",
       "261242 2021-12-31    AU Dellepiane  RD111 Ramal 9           0.18 -34.65061   \n",
       "261243 2021-12-31    AU Dellepiane  RD111 Ramal 9           0.18 -34.65061   \n",
       "261244 2021-12-31    AU Dellepiane  RD111 Ramal 9           0.18 -34.65061   \n",
       "\n",
       "            long  cantidad  \n",
       "0      -58.45967       943  \n",
       "1      -58.45967      3946  \n",
       "2      -58.45967      4662  \n",
       "3      -58.45967      2486  \n",
       "4      -58.45967      1268  \n",
       "...          ...       ...  \n",
       "261240 -58.46677       518  \n",
       "261241 -58.46677       440  \n",
       "261242 -58.46677       360  \n",
       "261243 -58.46677       176  \n",
       "261244 -58.46677        62  \n",
       "\n",
       "[261245 rows x 7 columns]"
      ]
     },
     "execution_count": 139,
     "metadata": {},
     "output_type": "execute_result"
    }
   ],
   "source": [
    "df2021"
   ]
  }
 ],
 "metadata": {
  "kernelspec": {
   "display_name": "Python 3.10.6 64-bit",
   "language": "python",
   "name": "python3"
  },
  "language_info": {
   "codemirror_mode": {
    "name": "ipython",
    "version": 3
   },
   "file_extension": ".py",
   "mimetype": "text/x-python",
   "name": "python",
   "nbconvert_exporter": "python",
   "pygments_lexer": "ipython3",
   "version": "3.10.6"
  },
  "orig_nbformat": 4,
  "vscode": {
   "interpreter": {
    "hash": "341268af697f69dd1ffdcdac7af840419ecb88f390bc16e46c3586102df69d04"
   }
  }
 },
 "nbformat": 4,
 "nbformat_minor": 2
}
